{
  "nbformat": 4,
  "nbformat_minor": 0,
  "metadata": {
    "colab": {
      "name": "LagoaPatos_visualizacao.ipynb",
      "provenance": [],
      "collapsed_sections": [],
      "mount_file_id": "1Zk2cvYqyE6ElwL4dUwNZcBEP6vvTPH_g",
      "authorship_tag": "ABX9TyM5KPUHhsKHdwO8vJEFpUYN",
      "include_colab_link": true
    },
    "kernelspec": {
      "display_name": "Python 3",
      "name": "python3"
    },
    "language_info": {
      "name": "python"
    }
  },
  "cells": [
    {
      "cell_type": "markdown",
      "metadata": {
        "id": "view-in-github",
        "colab_type": "text"
      },
      "source": [
        "<a href=\"https://colab.research.google.com/github/VictorCioce/VictorCioce/blob/main/LagoaPatos_visualizacao.ipynb\" target=\"_parent\"><img src=\"https://colab.research.google.com/assets/colab-badge.svg\" alt=\"Open In Colab\"/></a>"
      ]
    },
    {
      "cell_type": "markdown",
      "metadata": {
        "id": "WyYbDnlvtb0l"
      },
      "source": [
        "Última atualização: 17/01/2022\n",
        "\n",
        "Através do Google Earth Engine - Python API, acessaremos as imagens da Coleção TOA (Top of Atmosphere) do Landsat 5 e 8. O Foco é visuzalizar A Lagoa dos Patos - RS. Esse algoritmo se propõem a:\n",
        " - Acessa as coleções TOA do Landsat 5 e 8;\n",
        " - Selecionar imagens por Orbita 221 cena 081/082, Data e Cobertura de nuvens;\n",
        " - Criar um Mosaico com as imagens de mesma data em cenas diferentes(81/82);\n",
        " - Recorte das imagens por uma camada mascara - Lagoa dos Patos - RS (coordenadas definidas).\n",
        " - Visualização das imagens pela lib Folium."
      ]
    },
    {
      "cell_type": "markdown",
      "source": [
        "# Instalação e Inicialização do Earth Engine"
      ],
      "metadata": {
        "id": "7dY8YpjSxyj6"
      }
    },
    {
      "cell_type": "code",
      "metadata": {
        "id": "tFPTiSYarbwB"
      },
      "source": [
        "# Instalando API do Google Earth Engine\n",
        "!pip install earthengine-api\n"
      ],
      "execution_count": null,
      "outputs": []
    },
    {
      "cell_type": "code",
      "metadata": {
        "id": "0mPbpp2YuEc-"
      },
      "source": [
        "# Importanto o Earth Engine (ee) e autenticando\n",
        "import ee\n",
        "ee.Authenticate()\n",
        "ee.Initialize()\n"
      ],
      "execution_count": null,
      "outputs": []
    },
    {
      "cell_type": "markdown",
      "source": [
        "# Declaração das Coordenadas da feição da Lagoa dos Patos - RS"
      ],
      "metadata": {
        "id": "-vqlRIEwoM9m"
      }
    },
    {
      "cell_type": "code",
      "source": [
        "# Definindo uma feição simples do entorno da Lagoa dos Patos - RS\n",
        "feicao_lagoa = ee.Geometry.Polygon([[-50.9847, -30.3578], [-50.9560, -30.3147], \n",
        "                             [-50.6642, -30.1425], [-50.5015, -30.1329], \n",
        "                             [-50.5207, -30.4582], [-50.6259, -30.5204], \n",
        "                             [-50.6977, -30.8218], [-50.9225, -30.9223], \n",
        "                             [-50.9321, -31.0371], [-51.1521, -31.1232], \n",
        "                             [-51.1378, -31.3863], [-51.6209, -31.8264], \n",
        "                             [-51.9797, -31.9029], [-52.0180, -32.2330], \n",
        "                             [-52.1615, -32.2091], [-52.3146, -31.9938], \n",
        "                             [-52.1567, -31.4485], [-51.5683, -31.0562], \n",
        "                             [-51.3052, -30.4199], [-51.3722, -29.9894], \n",
        "                             [-51.2526, -29.9655], [-51.1952, -30.1568], \n",
        "                             [-51.0134, -30.2525], [-50.9847, -30.3578]])\n",
        "\n",
        "# Declarando as coordenadas da Lagoa dos Patos como uma Features para recorte\n",
        "lagoa_patos = ee.Feature(feicao_lagoa)\n"
      ],
      "metadata": {
        "id": "8iyS7YcGj7i-"
      },
      "execution_count": 13,
      "outputs": []
    },
    {
      "cell_type": "markdown",
      "source": [
        "# Definindo a Função ymdList para visualização de datas"
      ],
      "metadata": {
        "id": "9R3ey49xrVEe"
      }
    },
    {
      "cell_type": "code",
      "source": [
        "# Função para visualizar as datas das imagens\n",
        "def ymdList(imgcol):\n",
        "    def iter_func(image, newlist):\n",
        "        date = ee.Number.parse(image.date().format(\"YYYYMMdd\"));\n",
        "        newlist = ee.List(newlist);\n",
        "        return ee.List(newlist.add(date).sort())\n",
        "    ymd = imgcol.iterate(iter_func, ee.List([]))\n",
        "    return list(ee.List(ymd).reduce(ee.Reducer.frequencyHistogram()).getInfo().keys())\n"
      ],
      "metadata": {
        "id": "G-NeTgQErdyV"
      },
      "execution_count": 5,
      "outputs": []
    },
    {
      "cell_type": "markdown",
      "source": [
        "# Definição da Função Folium para gerar Mapas da Lagoa dos Patos"
      ],
      "metadata": {
        "id": "P0IzFTICpw5w"
      }
    },
    {
      "cell_type": "code",
      "metadata": {
        "id": "uB6qOdKajYoE"
      },
      "source": [
        "# Função para gerar mapa de visualização Folium.\n",
        "import folium\n",
        "\n",
        "def add_ee_layer(self, ee_image_object, vis_params, name):\n",
        "  map_id_dict = ee.Image(ee_image_object).getMapId(vis_params)\n",
        "  folium.raster_layers.TileLayer(\n",
        "      tiles=map_id_dict['tile_fetcher'].url_format,\n",
        "      attr='Map Data &copy; <a href=\"https://earthengine.google.com/\">Google Earth Engine</a>',\n",
        "      name=name,\n",
        "      overlay=True,\n",
        "      control=True\n",
        "  ).add_to(self)\n",
        "\n",
        "folium.Map.add_ee_layer = add_ee_layer\n",
        "\n",
        "# Definindo parametros da composição do mapa RGB True Color\n",
        "rgb_param = {\n",
        "    'bands': ['B3', 'B2', 'B1'],\n",
        "    'min': 0,\n",
        "    'max': 0.5,\n",
        "    'gamma': [0.95, 1.1, 1]\n",
        "}\n",
        "\n",
        "# Defindo o centro do mapa para a Lagos dos Patos por Folium \n",
        "my_map = folium.Map(location=[-31.15666425, -51.35544453], zoom_start=8)\n"
      ],
      "execution_count": 15,
      "outputs": []
    },
    {
      "cell_type": "markdown",
      "metadata": {
        "id": "euxMUVahMLNk"
      },
      "source": [
        "# 1°Seção A: Filtração e Visualização para TOA Images Landsat 5\n",
        "\n"
      ]
    },
    {
      "cell_type": "markdown",
      "metadata": {
        "id": "cxB1n77dM1QA"
      },
      "source": [
        "Vizualização por USGS Landsat 8 Collection 1 Tier 1 TOA Reflectance"
      ]
    },
    {
      "cell_type": "code",
      "metadata": {
        "id": "ljMO5f7ruVdj"
      },
      "source": [
        "# Variável para acessar coleções do Landsat 5 (LT05_\"ROW\")\n",
        "# Filtros Escolhidos para aplicação:\n",
        "#   Data: 2000-06-23 a 2011-10-28\n",
        "#   Path: 221/ Row: 081 e 082\n",
        "#   Cobertura de nuvens menor de 20%\n",
        "\n",
        "LT05_81 = ee.ImageCollection(\"LANDSAT/LT05/C01/T1_TOA\")\\\n",
        "    .filterDate('2000-06-23','2011-10-28')\\\n",
        "    .filter(ee.Filter.eq('WRS_PATH', 221))\\\n",
        "    .filter(ee.Filter.eq('WRS_ROW', 81))\\\n",
        "    .filterMetadata('CLOUD_COVER', 'less_than', 20)\n",
        "\n",
        "LT05_82 = ee.ImageCollection(\"LANDSAT/LT05/C01/T1_TOA\")\\\n",
        "    .filterDate('2000-06-23','2011-10-28')\\\n",
        "    .filter(ee.Filter.eq('WRS_PATH', 221))\\\n",
        "    .filter(ee.Filter.eq('WRS_ROW', 82))\\\n",
        "    .filterMetadata('CLOUD_COVER', 'less_than', 20)\n",
        "\n",
        "print('Total de imagens Row81: ', LT05_81.size().getInfo())\n",
        "print('Total de imagens Row82: ', LT05_82.size().getInfo())\n"
      ],
      "execution_count": null,
      "outputs": []
    },
    {
      "cell_type": "code",
      "metadata": {
        "id": "6CKvRfz-YiXA"
      },
      "source": [
        "# Usando a função ymdList para visualização de Datas\n",
        "print('Datas disponíveis ROW 081: ', ymdList(LT05_81))\n",
        "print('Datas disponíveis ROW 082: ', ymdList(LT05_82))\n"
      ],
      "execution_count": null,
      "outputs": []
    },
    {
      "cell_type": "code",
      "source": [
        "# Selecionando imagens por datas da coleção criada a cima\n",
        "LT05_81 = ee.Image(\"LANDSAT/LT05/C01/T1_TOA/LT05_221081_20010525\")\n",
        "LT05_82 = ee.Image(\"LANDSAT/LT05/C01/T1_TOA/LT05_221082_20010525\")\n",
        "\n",
        "# Gerando a variável mosaico\n",
        "LT05_mosaic = ee.ImageCollection([LT05_81, LT05_82]).mosaic()\n",
        "\n",
        "# Função Clip que contem o recorte do mosaico sobre a área da Lagoa dos Patos -RS\n",
        "LT05_LagoaPatos = LT05_mosaic.clip(lagoa_patos)\n",
        "\n",
        "# # Adicionando as imagens ao MapLayer por Folium.\n",
        "my_map.add_ee_layer(LT05_LagoaPatos, rgb_param, 'true color')\n",
        "display(my_map)\n"
      ],
      "metadata": {
        "id": "XImDeURHl51T"
      },
      "execution_count": null,
      "outputs": []
    },
    {
      "cell_type": "markdown",
      "source": [
        "# 1°Seção B: Filtração e Visualização para TOA Images Landsat 8; "
      ],
      "metadata": {
        "id": "j7QIDap1B8nw"
      }
    },
    {
      "cell_type": "code",
      "source": [
        "# Variável para acessar coleções do Landsat 8 (LC08_\"ROW\")\n",
        "# Filtros Escolhidos para aplicação:\n",
        "#   Data: 2013-08-30 a 2020-12-23\n",
        "#   Path: 221/ Row: 081 e 082\n",
        "#   Cobertura de nuvens menor de 20%\n",
        "\n",
        "LC08_81 = ee.ImageCollection(\"LANDSAT/LC08/C01/T1_TOA\")\\\n",
        "    .filterDate('2013-08-30','2020-12-23')\\\n",
        "    .filter(ee.Filter.eq('WRS_PATH', 221))\\\n",
        "    .filter(ee.Filter.eq('WRS_ROW', 81))\\\n",
        "    .filterMetadata('CLOUD_COVER', 'less_than', 20)\n",
        "\n",
        "LC08_82 = ee.ImageCollection(\"LANDSAT/LC08/C01/T1_TOA\")\\\n",
        "    .filterDate('2013-08-30','2020-12-23')\\\n",
        "    .filter(ee.Filter.eq('WRS_PATH', 221))\\\n",
        "    .filter(ee.Filter.eq('WRS_ROW', 82))\\\n",
        "    .filterMetadata('CLOUD_COVER', 'less_than', 20)\n",
        "\n",
        "print('Total de imagens Row81: ', LC08_81.size().getInfo())\n",
        "print('Total de imagens Row82: ', LC08_82.size().getInfo())\n"
      ],
      "metadata": {
        "id": "rRXQa1tIB418"
      },
      "execution_count": null,
      "outputs": []
    },
    {
      "cell_type": "code",
      "source": [
        "# Usando a função ymdList para visualização de Datas\n",
        "print('Datas disponíveis ROW 081: ', ymdList(LC08_81))\n",
        "print('Datas disponíveis ROW 082: ', ymdList(LC08_82))\n"
      ],
      "metadata": {
        "id": "ofZfYaLmCvPC"
      },
      "execution_count": null,
      "outputs": []
    },
    {
      "cell_type": "code",
      "source": [
        "# Selecionando imagens por datas da coleção criada a cima\n",
        "LC08_81 = ee.Image(\"LANDSAT/LC08/C01/T1_TOA/LC08_221081_20130830\")\n",
        "LC08_82 = ee.Image(\"LANDSAT/LC08/C01/T1_TOA/LC08_221082_20130830\")\n",
        "\n",
        "# Gerando a variável mosaico\n",
        "LC08_mosaic = ee.ImageCollection([LC08_81, LC08_82]).mosaic()\n",
        "\n",
        "# Função Clip para recortar o mosaico pela áreas de interesse\n",
        "LC08_LagoaPatos = LC08_mosaic.clip(lagoa_patos)\n",
        "\n",
        "# Adicionando as imagens ao MapLayer por Folium\n",
        "my_map.add_ee_layer(LC08_LagoaPatos, rgb_param, 'true color')\n",
        "display(my_map)\n"
      ],
}
