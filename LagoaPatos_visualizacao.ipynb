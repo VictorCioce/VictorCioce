{
  "nbformat": 4,
  "nbformat_minor": 0,
  "metadata": {
    "colab": {
      "name": "LagoaPatos_visualizacao.ipynb",
      "provenance": [],
      "collapsed_sections": [
        "7dY8YpjSxyj6",
        "-vqlRIEwoM9m",
        "9R3ey49xrVEe",
        "P0IzFTICpw5w",
        "euxMUVahMLNk",
        "j7QIDap1B8nw"
      ],
      "mount_file_id": "1Zk2cvYqyE6ElwL4dUwNZcBEP6vvTPH_g",
      "authorship_tag": "ABX9TyOWVPy2Uel8GYvlDrJHPt9y",
      "include_colab_link": true
    },
    "kernelspec": {
      "display_name": "Python 3",
      "name": "python3"
    },
    "language_info": {
      "name": "python"
    }
  },
  "cells": [
    {
      "cell_type": "markdown",
      "metadata": {
        "id": "view-in-github",
        "colab_type": "text"
      },
      "source": [
        "<a href=\"https://colab.research.google.com/github/VictorCioce/VictorCioce/blob/main/LagoaPatos_visualizacao.ipynb\" target=\"_parent\"><img src=\"https://colab.research.google.com/assets/colab-badge.svg\" alt=\"Open In Colab\"/></a>"
      ]
    },
    {
      "cell_type": "markdown",
      "metadata": {
        "id": "WyYbDnlvtb0l"
      },
      "source": [
        "Última atualização: 14/01/2022\n",
        "\n",
        "Este script irá Usando o GEE:\n",
        " - Acessa as base de dados do Landsat 5 e 8\n",
        " - Selecionar imagens por Orbita 221 cena 081/082, Data, Cobertura de nuvens e Região de interesse das Imagens;\n",
        " - Mosaico com as imagens de mesma data em cenas diferentes(81/82);\n",
        " - Recorte por uma camada mascara - Lagoa dos Patos.\n",
        " - Filtração e Visualização para TOA Images(concluída 22/12/2021):\n",
        "      A = Landsat 5\n",
        "      B = Landsat 8\n"
      ]
    },
    {
      "cell_type": "markdown",
      "source": [
        "# Instalação e Inicialização do Earth Engine"
      ],
      "metadata": {
        "id": "7dY8YpjSxyj6"
      }
    },
    {
      "cell_type": "code",
      "metadata": {
        "id": "tFPTiSYarbwB"
      },
      "source": [
        "# Instalando API do Google Earth Engine para outros serviços do Google\n",
        "!pip install earthengine-api\n"
      ],
      "execution_count": null,
      "outputs": []
    },
    {
      "cell_type": "code",
      "metadata": {
        "id": "0mPbpp2YuEc-"
      },
      "source": [
        "# Importanto o Earth Engine (ee) e autenticando\n",
        "import ee\n",
        "ee.Authenticate()\n",
        "ee.Initialize()\n"
      ],
      "execution_count": null,
      "outputs": []
    },
    {
      "cell_type": "markdown",
      "source": [
        "# Declaração das Coordenadas da feição da Lagoa dos Patos - RS"
      ],
      "metadata": {
        "id": "-vqlRIEwoM9m"
      }
    },
    {
      "cell_type": "code",
      "source": [
        "# Definindo uma área em torno da Lagoa dos Patos - RS\n",
        "lagoa_geo = ee.Geometry.Polygon([[-50.9847, -30.3578], [-50.9560, -30.3147], \n",
        "                             [-50.6642, -30.1425], [-50.5015, -30.1329], \n",
        "                             [-50.5207, -30.4582], [-50.6259, -30.5204], \n",
        "                             [-50.6977, -30.8218], [-50.9225, -30.9223], \n",
        "                             [-50.9321, -31.0371], [-51.1521, -31.1232], \n",
        "                             [-51.1378, -31.3863], [-51.6209, -31.8264], \n",
        "                             [-51.9797, -31.9029], [-52.0180, -32.2330], \n",
        "                             [-52.1615, -32.2091], [-52.3146, -31.9938], \n",
        "                             [-52.1567, -31.4485], [-51.5683, -31.0562], \n",
        "                             [-51.3052, -30.4199], [-51.3722, -29.9894], \n",
        "                             [-51.2526, -29.9655], [-51.1952, -30.1568], \n",
        "                             [-51.0134, -30.2525], [-50.9847, -30.3578]])\n",
        "\n",
        "# Declarando as coordenadas da Lagoa dos Patos como uma Features para recorte\n",
        "lagoa_recorte = ee.Feature(lagoa_geo)\n"
      ],
      "metadata": {
        "id": "8iyS7YcGj7i-"
      },
      "execution_count": null,
      "outputs": []
    },
    {
      "cell_type": "markdown",
      "source": [
        "# Definindo a Função ymdList para visualização de datas"
      ],
      "metadata": {
        "id": "9R3ey49xrVEe"
      }
    },
    {
      "cell_type": "code",
      "source": [
        "# Função para visualizar as datas das imagens\n",
        "def ymdList(imgcol):\n",
        "    def iter_func(image, newlist):\n",
        "        date = ee.Number.parse(image.date().format(\"YYYYMMdd\"));\n",
        "        newlist = ee.List(newlist);\n",
        "        return ee.List(newlist.add(date).sort())\n",
        "    ymd = imgcol.iterate(iter_func, ee.List([]))\n",
        "    return list(ee.List(ymd).reduce(ee.Reducer.frequencyHistogram()).getInfo().keys())\n"
      ],
      "metadata": {
        "id": "G-NeTgQErdyV"
      },
      "execution_count": null,
      "outputs": []
    },
    {
      "cell_type": "markdown",
      "source": [
        "# Definição da Função Folium para gerar Mapas da Lagoa dos Patos"
      ],
      "metadata": {
        "id": "P0IzFTICpw5w"
      }
    },
    {
      "cell_type": "code",
      "metadata": {
        "id": "uB6qOdKajYoE"
      },
      "source": [
        "# Função para visualização\n",
        "import folium\n",
        "\n",
        "def add_ee_layer(self, ee_image_object, vis_params, name):\n",
        "  map_id_dict = ee.Image(ee_image_object).getMapId(vis_params)\n",
        "  folium.raster_layers.TileLayer(\n",
        "      tiles=map_id_dict['tile_fetcher'].url_format,\n",
        "      attr='Map Data &copy; <a href=\"https://earthengine.google.com/\">Google Earth Engine</a>',\n",
        "      name=name,\n",
        "      overlay=True,\n",
        "      control=True\n",
        "  ).add_to(self)\n",
        "\n",
        "folium.Map.add_ee_layer = add_ee_layer\n",
        "\n",
        "# Definindo parametros da composição do mapa RGB True Color\n",
        "lp_rgb_param = {\n",
        "    'bands': ['B3', 'B2', 'B1'],\n",
        "    'min': 0,\n",
        "    'max': 0.5,\n",
        "    'gamma': [0.95, 1.1, 1]\n",
        "}\n",
        "\n",
        "# Defindo o centro do mapa para a Lagos dos Patos por Folium \n",
        "map_lagoapatos = folium.Map(location=[-31.15666425, -51.35544453], zoom_start=8)\n"
      ],
      "execution_count": null,
      "outputs": []
    },
    {
      "cell_type": "markdown",
      "metadata": {
        "id": "euxMUVahMLNk"
      },
      "source": [
        "# 1°Seção A: Filtração e Visualização para TOA Images Landsat 5\n",
        "\n"
      ]
    },
    {
      "cell_type": "markdown",
      "metadata": {
        "id": "cxB1n77dM1QA"
      },
      "source": [
        "Vizualização por USGS Landsat 8 Collection 1 Tier 1 TOA Reflectance"
      ]
    },
    {
      "cell_type": "code",
      "metadata": {
        "id": "ljMO5f7ruVdj"
      },
      "source": [
        "# Variável para acessar coleções do Landsat 5 (lp_LT05_81)\n",
        "# Usando filtros de:\n",
        "#   Data\n",
        "#   Coordenadas\n",
        "#   Path & Row: 081\n",
        "#   Cobertura de nuvens menor de 15%\n",
        "# Foi removido o filtro:    .filterBounds(ee.Geometry.Polygon([[-52.11, -29.25], [-50.22, -29.25], [-51.02, -32.78], [-52.98, -32.40]]))\\\n",
        "\n",
        "lp_LT05_81 = ee.ImageCollection(\"LANDSAT/LT05/C01/T1_TOA\")\\\n",
        "    .filterDate('2000-06-23','2011-10-28')\\\n",
        "    .filter(ee.Filter.eq('WRS_PATH', 221))\\\n",
        "    .filter(ee.Filter.eq('WRS_ROW', 81))\\\n",
        "    .filterMetadata('CLOUD_COVER', 'less_than', 20)\n",
        "\n",
        "lp_LT05_82 = ee.ImageCollection(\"LANDSAT/LT05/C01/T1_TOA\")\\\n",
        "    .filterDate('2000-06-23','2011-10-28')\\\n",
        "    .filter(ee.Filter.eq('WRS_PATH', 221))\\\n",
        "    .filter(ee.Filter.eq('WRS_ROW', 82))\\\n",
        "    .filterMetadata('CLOUD_COVER', 'less_than', 20)\n",
        "\n",
        "print('Total de imagens Row81: ', lp_LT05_81.size().getInfo())\n",
        "print('Total de imagens Row82: ', lp_LT05_82.size().getInfo())\n"
      ],
      "execution_count": null,
      "outputs": []
    },
    {
      "cell_type": "code",
      "metadata": {
        "id": "6CKvRfz-YiXA",
        "colab": {
          "base_uri": "https://localhost:8080/"
        },
        "outputId": "ec950983-a08a-457b-8407-ac8c3492916e"
      },
      "source": [
        "# Usando a função ymdList para visualização de Datas\n",
        "print('Datas disponíveis ROW 081: ', ymdList(lp_LT05_81))\n",
        "print('Datas disponíveis ROW 082: ', ymdList(lp_LT05_82))\n"
      ],
      "execution_count": null,
      "outputs": [
        {
          "output_type": "stream",
          "name": "stdout",
          "text": [
            "Datas disponíveis ROW 081:  ['20000623', '20000927', '20010101', '20010525', '20010712', '20010728', '20011219', '20020120', '20020221', '20020309', '20030904', '20031123', '20040211', '20040330', '20040517', '20040704', '20040720', '20040906', '20041008', '20050112', '20050418', '20050504', '20051112', '20060523', '20060608', '20060624', '20061014', '20061115', '20061201', '20070102', '20070203', '20070323', '20070526', '20071001', '20080206', '20080309', '20080325', '20081003', '20081206', '20081222', '20090107', '20090123', '20090328', '20090413', '20090429', '20090702', '20090920', '20100211', '20100822', '20101110', '20110505', '20110910']\n",
            "Datas disponíveis ROW 082:  ['20000623', '20000927', '20010101', '20010202', '20010407', '20010525', '20010712', '20011117', '20011219', '20020120', '20020309', '20030819', '20030920', '20031123', '20040126', '20040211', '20040501', '20040720', '20040906', '20041024', '20041227', '20050112', '20050128', '20050418', '20050504', '20050621', '20050707', '20050925', '20060131', '20060523', '20060608', '20061115', '20061201', '20070102', '20070203', '20070323', '20070526', '20070729', '20080121', '20080206', '20080325', '20080917', '20081003', '20081206', '20090107', '20090123', '20090208', '20090328', '20090413', '20090429', '20090920', '20100331', '20100502', '20100822', '20110129', '20110214', '20110403', '20110419', '20110505']\n"
          ]
        }
      ]
    },
    {
      "cell_type": "code",
      "source": [
        "# Criação de um Mosaico e geração de seu mapa\n",
        "# Declaração das variáveis do mosaico.\n",
        "lp_LT05_81 = ee.Image(\"LANDSAT/LT05/C01/T1_TOA/LT05_221081_20010525\")\n",
        "lp_LT05_82 = ee.Image(\"LANDSAT/LT05/C01/T1_TOA/LT05_221082_20010525\")\n",
        "\n",
        "# Gerando a variável mosaico\n",
        "lp_LT05_mosaic = ee.ImageCollection([lp_LT05_81, lp_LT05_82]).mosaic()\n",
        "\n",
        "# Função Clip que contem o recorte do mosaico sobre a área da Lagoa dos Patos -RS\n",
        "lp_LT05 = lp_LT05_mosaic.clip(lagoa_recorte)\n",
        "\n",
        "# Add the image layer to the map and display it.\n",
        "map_lagoapatos.add_ee_layer(lp_LT05, lp_rgb_param, 'true color')\n",
        "display(map_lagoapatos)\n"
      ],
      "metadata": {
        "id": "XImDeURHl51T",
        "colab": {
          "base_uri": "https://localhost:8080/",
          "height": 1000
        },
        "outputId": "a21d0e17-fbc4-401a-d748-1a43980f88fe"
      },
      "execution_count": null,
      "outputs": [
        {
          "output_type": "display_data",
          "data": {
            "text/html": [
              "<div style=\"width:100%;\"><div style=\"position:relative;width:100%;height:0;padding-bottom:60%;\"><span style=\"color:#565656\">Make this Notebook Trusted to load map: File -> Trust Notebook</span><iframe src=\"about:blank\" style=\"position:absolute;width:100%;height:100%;left:0;top:0;border:none !important;\" data-html=%3C%21DOCTYPE%20html%3E%0A%3Chead%3E%20%20%20%20%0A%20%20%20%20%3Cmeta%20http-equiv%3D%22content-type%22%20content%3D%22text/html%3B%20charset%3DUTF-8%22%20/%3E%0A%20%20%20%20%3Cscript%3EL_PREFER_CANVAS%3Dfalse%3B%20L_NO_TOUCH%3Dfalse%3B%20L_DISABLE_3D%3Dfalse%3B%3C/script%3E%0A%20%20%20%20%3Cscript%20src%3D%22https%3A//cdn.jsdelivr.net/npm/leaflet%401.4.0/dist/leaflet.js%22%3E%3C/script%3E%0A%20%20%20%20%3Cscript%20src%3D%22https%3A//code.jquery.com/jquery-1.12.4.min.js%22%3E%3C/script%3E%0A%20%20%20%20%3Cscript%20src%3D%22https%3A//maxcdn.bootstrapcdn.com/bootstrap/3.2.0/js/bootstrap.min.js%22%3E%3C/script%3E%0A%20%20%20%20%3Cscript%20src%3D%22https%3A//cdnjs.cloudflare.com/ajax/libs/Leaflet.awesome-markers/2.0.2/leaflet.awesome-markers.js%22%3E%3C/script%3E%0A%20%20%20%20%3Clink%20rel%3D%22stylesheet%22%20href%3D%22https%3A//cdn.jsdelivr.net/npm/leaflet%401.4.0/dist/leaflet.css%22/%3E%0A%20%20%20%20%3Clink%20rel%3D%22stylesheet%22%20href%3D%22https%3A//maxcdn.bootstrapcdn.com/bootstrap/3.2.0/css/bootstrap.min.css%22/%3E%0A%20%20%20%20%3Clink%20rel%3D%22stylesheet%22%20href%3D%22https%3A//maxcdn.bootstrapcdn.com/bootstrap/3.2.0/css/bootstrap-theme.min.css%22/%3E%0A%20%20%20%20%3Clink%20rel%3D%22stylesheet%22%20href%3D%22https%3A//maxcdn.bootstrapcdn.com/font-awesome/4.6.3/css/font-awesome.min.css%22/%3E%0A%20%20%20%20%3Clink%20rel%3D%22stylesheet%22%20href%3D%22https%3A//cdnjs.cloudflare.com/ajax/libs/Leaflet.awesome-markers/2.0.2/leaflet.awesome-markers.css%22/%3E%0A%20%20%20%20%3Clink%20rel%3D%22stylesheet%22%20href%3D%22https%3A//rawcdn.githack.com/python-visualization/folium/master/folium/templates/leaflet.awesome.rotate.css%22/%3E%0A%20%20%20%20%3Cstyle%3Ehtml%2C%20body%20%7Bwidth%3A%20100%25%3Bheight%3A%20100%25%3Bmargin%3A%200%3Bpadding%3A%200%3B%7D%3C/style%3E%0A%20%20%20%20%3Cstyle%3E%23map%20%7Bposition%3Aabsolute%3Btop%3A0%3Bbottom%3A0%3Bright%3A0%3Bleft%3A0%3B%7D%3C/style%3E%0A%20%20%20%20%0A%20%20%20%20%3Cmeta%20name%3D%22viewport%22%20content%3D%22width%3Ddevice-width%2C%0A%20%20%20%20%20%20%20%20initial-scale%3D1.0%2C%20maximum-scale%3D1.0%2C%20user-scalable%3Dno%22%20/%3E%0A%20%20%20%20%3Cstyle%3E%23map_ff3e685b19d144028383933dd5ae04f9%20%7B%0A%20%20%20%20%20%20%20%20position%3A%20relative%3B%0A%20%20%20%20%20%20%20%20width%3A%20100.0%25%3B%0A%20%20%20%20%20%20%20%20height%3A%20100.0%25%3B%0A%20%20%20%20%20%20%20%20left%3A%200.0%25%3B%0A%20%20%20%20%20%20%20%20top%3A%200.0%25%3B%0A%20%20%20%20%20%20%20%20%7D%0A%20%20%20%20%3C/style%3E%0A%3C/head%3E%0A%3Cbody%3E%20%20%20%20%0A%20%20%20%20%0A%20%20%20%20%3Cdiv%20class%3D%22folium-map%22%20id%3D%22map_ff3e685b19d144028383933dd5ae04f9%22%20%3E%3C/div%3E%0A%3C/body%3E%0A%3Cscript%3E%20%20%20%20%0A%20%20%20%20%0A%20%20%20%20%0A%20%20%20%20%20%20%20%20var%20bounds%20%3D%20null%3B%0A%20%20%20%20%0A%0A%20%20%20%20var%20map_ff3e685b19d144028383933dd5ae04f9%20%3D%20L.map%28%0A%20%20%20%20%20%20%20%20%27map_ff3e685b19d144028383933dd5ae04f9%27%2C%20%7B%0A%20%20%20%20%20%20%20%20center%3A%20%5B-31.15666425%2C%20-51.35544453%5D%2C%0A%20%20%20%20%20%20%20%20zoom%3A%208%2C%0A%20%20%20%20%20%20%20%20maxBounds%3A%20bounds%2C%0A%20%20%20%20%20%20%20%20layers%3A%20%5B%5D%2C%0A%20%20%20%20%20%20%20%20worldCopyJump%3A%20false%2C%0A%20%20%20%20%20%20%20%20crs%3A%20L.CRS.EPSG3857%2C%0A%20%20%20%20%20%20%20%20zoomControl%3A%20true%2C%0A%20%20%20%20%20%20%20%20%7D%29%3B%0A%0A%0A%20%20%20%20%0A%20%20%20%20var%20tile_layer_cc746ce8bf4b41c3a74a2f787df10576%20%3D%20L.tileLayer%28%0A%20%20%20%20%20%20%20%20%27https%3A//%7Bs%7D.tile.openstreetmap.org/%7Bz%7D/%7Bx%7D/%7By%7D.png%27%2C%0A%20%20%20%20%20%20%20%20%7B%0A%20%20%20%20%20%20%20%20%22attribution%22%3A%20null%2C%0A%20%20%20%20%20%20%20%20%22detectRetina%22%3A%20false%2C%0A%20%20%20%20%20%20%20%20%22maxNativeZoom%22%3A%2018%2C%0A%20%20%20%20%20%20%20%20%22maxZoom%22%3A%2018%2C%0A%20%20%20%20%20%20%20%20%22minZoom%22%3A%200%2C%0A%20%20%20%20%20%20%20%20%22noWrap%22%3A%20false%2C%0A%20%20%20%20%20%20%20%20%22opacity%22%3A%201%2C%0A%20%20%20%20%20%20%20%20%22subdomains%22%3A%20%22abc%22%2C%0A%20%20%20%20%20%20%20%20%22tms%22%3A%20false%0A%7D%29.addTo%28map_ff3e685b19d144028383933dd5ae04f9%29%3B%0A%20%20%20%20var%20tile_layer_5c5fa4f3e6ab47568d38fc3086bf6069%20%3D%20L.tileLayer%28%0A%20%20%20%20%20%20%20%20%27https%3A//earthengine.googleapis.com/v1alpha/projects/earthengine-legacy/maps/a9fbab9c9e8348bd21abd599022b7106-aadcc6670948f898c624068b2ac49f82/tiles/%7Bz%7D/%7Bx%7D/%7By%7D%27%2C%0A%20%20%20%20%20%20%20%20%7B%0A%20%20%20%20%20%20%20%20%22attribution%22%3A%20%22Map%20Data%20%26copy%3B%20%3Ca%20href%3D%5C%22https%3A//earthengine.google.com/%5C%22%3EGoogle%20Earth%20Engine%3C/a%3E%22%2C%0A%20%20%20%20%20%20%20%20%22detectRetina%22%3A%20false%2C%0A%20%20%20%20%20%20%20%20%22maxNativeZoom%22%3A%2018%2C%0A%20%20%20%20%20%20%20%20%22maxZoom%22%3A%2018%2C%0A%20%20%20%20%20%20%20%20%22minZoom%22%3A%200%2C%0A%20%20%20%20%20%20%20%20%22noWrap%22%3A%20false%2C%0A%20%20%20%20%20%20%20%20%22opacity%22%3A%201%2C%0A%20%20%20%20%20%20%20%20%22subdomains%22%3A%20%22abc%22%2C%0A%20%20%20%20%20%20%20%20%22tms%22%3A%20false%0A%7D%29.addTo%28map_ff3e685b19d144028383933dd5ae04f9%29%3B%0A%20%20%20%20var%20tile_layer_46ac4a1e735040c194e1102a3363c26f%20%3D%20L.tileLayer%28%0A%20%20%20%20%20%20%20%20%27https%3A//earthengine.googleapis.com/v1alpha/projects/earthengine-legacy/maps/a9fbab9c9e8348bd21abd599022b7106-1c850e673e008dd329d87b94eedac545/tiles/%7Bz%7D/%7Bx%7D/%7By%7D%27%2C%0A%20%20%20%20%20%20%20%20%7B%0A%20%20%20%20%20%20%20%20%22attribution%22%3A%20%22Map%20Data%20%26copy%3B%20%3Ca%20href%3D%5C%22https%3A//earthengine.google.com/%5C%22%3EGoogle%20Earth%20Engine%3C/a%3E%22%2C%0A%20%20%20%20%20%20%20%20%22detectRetina%22%3A%20false%2C%0A%20%20%20%20%20%20%20%20%22maxNativeZoom%22%3A%2018%2C%0A%20%20%20%20%20%20%20%20%22maxZoom%22%3A%2018%2C%0A%20%20%20%20%20%20%20%20%22minZoom%22%3A%200%2C%0A%20%20%20%20%20%20%20%20%22noWrap%22%3A%20false%2C%0A%20%20%20%20%20%20%20%20%22opacity%22%3A%201%2C%0A%20%20%20%20%20%20%20%20%22subdomains%22%3A%20%22abc%22%2C%0A%20%20%20%20%20%20%20%20%22tms%22%3A%20false%0A%7D%29.addTo%28map_ff3e685b19d144028383933dd5ae04f9%29%3B%0A%3C/script%3E onload=\"this.contentDocument.open();this.contentDocument.write(    decodeURIComponent(this.getAttribute('data-html')));this.contentDocument.close();\" allowfullscreen webkitallowfullscreen mozallowfullscreen></iframe></div></div>"
            ],
            "text/plain": [
              "<folium.folium.Map at 0x7fde8aad45d0>"
            ]
          },
          "metadata": {}
        }
      ]
    },
    {
      "cell_type": "markdown",
      "source": [
        "# 1°Seção B: Filtração e Visualização para TOA Images Landsat 8; "
      ],
      "metadata": {
        "id": "j7QIDap1B8nw"
      }
    },
    {
      "cell_type": "code",
      "source": [
        "# Variável para acessar coleções do Landsat 8 (lp_LC08)\n",
        "# Usando filtros de:\n",
        "#   Data\n",
        "#   Coordenadas\n",
        "#   Path & Row: 081\n",
        "#   Cobertura de nuvens menor de 15%\n",
        "# Foi removido o filtro:    .filterBounds(ee.Geometry.Polygon([[-52.11, -29.25], [-50.22, -29.25], [-51.02, -32.78], [-52.98, -32.40]]))\\\n",
        "\n",
        "lp_LC08_81 = ee.ImageCollection(\"LANDSAT/LC08/C01/T1_TOA\")\\\n",
        "    .filterDate('2013-08-30','2020-12-23')\\\n",
        "    .filter(ee.Filter.eq('WRS_PATH', 221))\\\n",
        "    .filter(ee.Filter.eq('WRS_ROW', 81))\\\n",
        "    .filterMetadata('CLOUD_COVER', 'less_than', 20)\n",
        "\n",
        "lp_LC08_82 = ee.ImageCollection(\"LANDSAT/LC08/C01/T1_TOA\")\\\n",
        "    .filterDate('2013-08-30','2020-12-23')\\\n",
        "    .filter(ee.Filter.eq('WRS_PATH', 221))\\\n",
        "    .filter(ee.Filter.eq('WRS_ROW', 82))\\\n",
        "    .filterMetadata('CLOUD_COVER', 'less_than', 20)\n",
        "\n",
        "print('Total de imagens Row81: ', lp_LC08_81.size().getInfo())\n",
        "print('Total de imagens Row82: ', lp_LC08_82.size().getInfo())"
      ],
      "metadata": {
        "id": "rRXQa1tIB418"
      },
      "execution_count": null,
      "outputs": []
    },
    {
      "cell_type": "code",
      "source": [
        "# Usando a função ymdList para visualização de Datas\n",
        "print('Datas disponíveis ROW 081: ', ymdList(lp_LC08_81))\n",
        "print('Datas disponíveis ROW 082: ', ymdList(lp_LC08_82))\n"
      ],
      "metadata": {
        "id": "ofZfYaLmCvPC"
      },
      "execution_count": null,
      "outputs": []
    },
    {
      "cell_type": "code",
      "source": [
        "# Criação de um Mosaico e geração de seu mapa\n",
        "# Declaração das variáveis do mosaico.\n",
        "lp_LC08_81 = ee.Image(\"LANDSAT/LC08/C01/T1_TOA/LC08_221081_20130830\")\n",
        "lp_LC08_82 = ee.Image(\"LANDSAT/LC08/C01/T1_TOA/LC08_221082_20130830\")\n",
        "\n",
        "# Gerando a variável mosaico\n",
        "lp_LC08_mosaic = ee.ImageCollection([lp_LC08_81, lp_LC08_82]).mosaic()\n",
        "\n",
        "# Função Clip para recortar o mosaico pela áreas de interesse\n",
        "lp_LC08 = lp_LC08_mosaic.clip(lagoa_recorte)\n",
        "\n",
        "# Add the image layer to the map and display it.\n",
        "map_lagoapatos.add_ee_layer(lp_LC08, lp_rgb_param, 'true color')\n",
        "display(map_lagoapatos)\n"
      ],
      "metadata": {
        "id": "FfPiQjXxC5nK"
      },
      "execution_count": null,
      "outputs": []
    },
    {
      "cell_type": "code",
      "source": [
        "lp_LT05_81_SR = ee.ImageCollection(\"LANDSAT/LT05/C02/T1_L2\")\\\n",
        "    .filterDate('2000-06-23','2011-10-28')\\\n",
        "    .filter(ee.Filter.eq('WRS_PATH', 221))\\\n",
        "    .filter(ee.Filter.eq('WRS_ROW', 81))\\\n",
        "    .filterMetadata('CLOUD_COVER', 'less_than', 20)\n",
        "\n",
        "lp_LT05_82_SR = ee.ImageCollection(\"LANDSAT/LT05/C02/T1_L2\")\\\n",
        "    .filterDate('2000-06-23','2011-10-28')\\\n",
        "    .filter(ee.Filter.eq('WRS_PATH', 221))\\\n",
        "    .filter(ee.Filter.eq('WRS_ROW', 82))\\\n",
        "    .filterMetadata('CLOUD_COVER', 'less_than', 20)\n",
        "\n",
        "print('Total de imagens Row81: ', lp_LT05_81_SR.size().getInfo())\n",
        "print('Total de imagens Row82: ', lp_LT05_82_SR.size().getInfo())"
      ],
      "metadata": {
        "id": "-ZHBeXHr9zZ7"
      },
      "execution_count": null,
      "outputs": []
    },
    {
      "cell_type": "code",
      "source": [
        "print('Datas disponíveis ROW 081: ', ymdList(lp_LT05_81_SR))\n",
        "print('Datas disponíveis ROW 082: ', ymdList(lp_LT05_82_SR))"
      ],
      "metadata": {
        "id": "Atyf20X2ArPz"
      },
      "execution_count": null,
      "outputs": []
    }
  ]
}