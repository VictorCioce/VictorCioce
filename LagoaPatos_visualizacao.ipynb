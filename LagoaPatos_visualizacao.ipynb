{
  "nbformat": 4,
  "nbformat_minor": 0,
  "metadata": {
    "colab": {
      "name": "LagoaPatos_visualizacao.ipynb",
      "provenance": [],
      "collapsed_sections": [],
      "mount_file_id": "1Zk2cvYqyE6ElwL4dUwNZcBEP6vvTPH_g",
      "authorship_tag": "ABX9TyNADHC7dj6vCiuyC915HQCT",
      "include_colab_link": true
    },
    "kernelspec": {
      "display_name": "Python 3",
      "name": "python3"
    },
    "language_info": {
      "name": "python"
    }
  },
  "cells": [
    {
      "cell_type": "markdown",
      "metadata": {
        "id": "view-in-github",
        "colab_type": "text"
      },
      "source": [
        "<a href=\"https://colab.research.google.com/github/VictorCioce/VictorCioce/blob/main/LagoaPatos_visualizacao.ipynb\" target=\"_parent\"><img src=\"https://colab.research.google.com/assets/colab-badge.svg\" alt=\"Open In Colab\"/></a>"
      ]
    },
    {
      "cell_type": "markdown",
      "metadata": {
        "id": "WyYbDnlvtb0l"
      },
      "source": [
        "Última atualização: 17/01/2022\n",
        "\n",
        "Este script irá usar o Google Earth Engine, por Python API, visando acessar imagens da Coleção TOA (Top of Atmosphere) do Landsat 5 e 8. O Foco é visuzalizar A Lagoa dos Patos - RS. Esse algoritmo se propõem a:\n",
        " - Acessa as coleções TOA do Landsat 5 e 8;\n",
        " - Selecionar imagens por Orbita 221 cena 081/082, Data e Cobertura de nuvens;\n",
        " - Criar um Mosaico com as imagens de mesma data em cenas diferentes(81/82);\n",
        " - Recorte das imagens por uma camada mascara - Lagoa dos Patos - RS (coordenadas definidas).\n",
        " - Visualização das imagens pela lib Folium."
      ]
    },
    {
      "cell_type": "markdown",
      "source": [
        "# Instalação e Inicialização do Earth Engine"
      ],
      "metadata": {
        "id": "7dY8YpjSxyj6"
      }
    },
    {
      "cell_type": "code",
      "metadata": {
        "id": "tFPTiSYarbwB",
        "colab": {
          "base_uri": "https://localhost:8080/"
        },
        "outputId": "9521bbd5-ca91-485b-8890-d7d784c2115c"
      },
      "source": [
        "# Instalando API do Google Earth Engine\n",
        "!pip install earthengine-api\n"
      ],
      "execution_count": 1,
      "outputs": [
        {
          "output_type": "stream",
          "name": "stdout",
          "text": [
            "Requirement already satisfied: earthengine-api in /usr/local/lib/python3.7/dist-packages (0.1.293)\n",
            "Requirement already satisfied: google-auth-httplib2>=0.0.3 in /usr/local/lib/python3.7/dist-packages (from earthengine-api) (0.0.4)\n",
            "Requirement already satisfied: six in /usr/local/lib/python3.7/dist-packages (from earthengine-api) (1.15.0)\n",
            "Requirement already satisfied: google-cloud-storage in /usr/local/lib/python3.7/dist-packages (from earthengine-api) (1.18.1)\n",
            "Requirement already satisfied: httplib2shim in /usr/local/lib/python3.7/dist-packages (from earthengine-api) (0.0.3)\n",
            "Requirement already satisfied: google-auth>=1.4.1 in /usr/local/lib/python3.7/dist-packages (from earthengine-api) (1.35.0)\n",
            "Requirement already satisfied: httplib2<1dev,>=0.9.2 in /usr/local/lib/python3.7/dist-packages (from earthengine-api) (0.17.4)\n",
            "Requirement already satisfied: google-api-python-client<2,>=1.12.1 in /usr/local/lib/python3.7/dist-packages (from earthengine-api) (1.12.8)\n",
            "Requirement already satisfied: future in /usr/local/lib/python3.7/dist-packages (from earthengine-api) (0.16.0)\n",
            "Requirement already satisfied: uritemplate<4dev,>=3.0.0 in /usr/local/lib/python3.7/dist-packages (from google-api-python-client<2,>=1.12.1->earthengine-api) (3.0.1)\n",
            "Requirement already satisfied: google-api-core<2dev,>=1.21.0 in /usr/local/lib/python3.7/dist-packages (from google-api-python-client<2,>=1.12.1->earthengine-api) (1.26.3)\n",
            "Requirement already satisfied: setuptools>=40.3.0 in /usr/local/lib/python3.7/dist-packages (from google-api-core<2dev,>=1.21.0->google-api-python-client<2,>=1.12.1->earthengine-api) (57.4.0)\n",
            "Requirement already satisfied: pytz in /usr/local/lib/python3.7/dist-packages (from google-api-core<2dev,>=1.21.0->google-api-python-client<2,>=1.12.1->earthengine-api) (2018.9)\n",
            "Requirement already satisfied: googleapis-common-protos<2.0dev,>=1.6.0 in /usr/local/lib/python3.7/dist-packages (from google-api-core<2dev,>=1.21.0->google-api-python-client<2,>=1.12.1->earthengine-api) (1.54.0)\n",
            "Requirement already satisfied: protobuf>=3.12.0 in /usr/local/lib/python3.7/dist-packages (from google-api-core<2dev,>=1.21.0->google-api-python-client<2,>=1.12.1->earthengine-api) (3.17.3)\n",
            "Requirement already satisfied: packaging>=14.3 in /usr/local/lib/python3.7/dist-packages (from google-api-core<2dev,>=1.21.0->google-api-python-client<2,>=1.12.1->earthengine-api) (21.3)\n",
            "Requirement already satisfied: requests<3.0.0dev,>=2.18.0 in /usr/local/lib/python3.7/dist-packages (from google-api-core<2dev,>=1.21.0->google-api-python-client<2,>=1.12.1->earthengine-api) (2.23.0)\n",
            "Requirement already satisfied: cachetools<5.0,>=2.0.0 in /usr/local/lib/python3.7/dist-packages (from google-auth>=1.4.1->earthengine-api) (4.2.4)\n",
            "Requirement already satisfied: rsa<5,>=3.1.4 in /usr/local/lib/python3.7/dist-packages (from google-auth>=1.4.1->earthengine-api) (4.8)\n",
            "Requirement already satisfied: pyasn1-modules>=0.2.1 in /usr/local/lib/python3.7/dist-packages (from google-auth>=1.4.1->earthengine-api) (0.2.8)\n",
            "Requirement already satisfied: pyparsing!=3.0.5,>=2.0.2 in /usr/local/lib/python3.7/dist-packages (from packaging>=14.3->google-api-core<2dev,>=1.21.0->google-api-python-client<2,>=1.12.1->earthengine-api) (3.0.6)\n",
            "Requirement already satisfied: pyasn1<0.5.0,>=0.4.6 in /usr/local/lib/python3.7/dist-packages (from pyasn1-modules>=0.2.1->google-auth>=1.4.1->earthengine-api) (0.4.8)\n",
            "Requirement already satisfied: chardet<4,>=3.0.2 in /usr/local/lib/python3.7/dist-packages (from requests<3.0.0dev,>=2.18.0->google-api-core<2dev,>=1.21.0->google-api-python-client<2,>=1.12.1->earthengine-api) (3.0.4)\n",
            "Requirement already satisfied: urllib3!=1.25.0,!=1.25.1,<1.26,>=1.21.1 in /usr/local/lib/python3.7/dist-packages (from requests<3.0.0dev,>=2.18.0->google-api-core<2dev,>=1.21.0->google-api-python-client<2,>=1.12.1->earthengine-api) (1.24.3)\n",
            "Requirement already satisfied: idna<3,>=2.5 in /usr/local/lib/python3.7/dist-packages (from requests<3.0.0dev,>=2.18.0->google-api-core<2dev,>=1.21.0->google-api-python-client<2,>=1.12.1->earthengine-api) (2.10)\n",
            "Requirement already satisfied: certifi>=2017.4.17 in /usr/local/lib/python3.7/dist-packages (from requests<3.0.0dev,>=2.18.0->google-api-core<2dev,>=1.21.0->google-api-python-client<2,>=1.12.1->earthengine-api) (2021.10.8)\n",
            "Requirement already satisfied: google-resumable-media<0.5.0dev,>=0.3.1 in /usr/local/lib/python3.7/dist-packages (from google-cloud-storage->earthengine-api) (0.4.1)\n",
            "Requirement already satisfied: google-cloud-core<2.0dev,>=1.0.0 in /usr/local/lib/python3.7/dist-packages (from google-cloud-storage->earthengine-api) (1.0.3)\n"
          ]
        }
      ]
    },
    {
      "cell_type": "code",
      "metadata": {
        "id": "0mPbpp2YuEc-",
        "colab": {
          "base_uri": "https://localhost:8080/"
        },
        "outputId": "56439b6f-578c-4299-8f21-eaa23b8197ee"
      },
      "source": [
        "# Importanto o Earth Engine (ee) e autenticando\n",
        "import ee\n",
        "ee.Authenticate()\n",
        "ee.Initialize()\n"
      ],
      "execution_count": 2,
      "outputs": [
        {
          "output_type": "stream",
          "name": "stdout",
          "text": [
            "To authorize access needed by Earth Engine, open the following URL in a web browser and follow the instructions. If the web browser does not start automatically, please manually browse the URL below.\n",
            "\n",
            "    https://accounts.google.com/o/oauth2/auth?client_id=517222506229-vsmmajv00ul0bs7p89v5m89qs8eb9359.apps.googleusercontent.com&scope=https%3A%2F%2Fwww.googleapis.com%2Fauth%2Fearthengine+https%3A%2F%2Fwww.googleapis.com%2Fauth%2Fdevstorage.full_control&redirect_uri=urn%3Aietf%3Awg%3Aoauth%3A2.0%3Aoob&response_type=code&code_challenge=8Y11Tf2fdU_YdPs9gm7-Gu-nahiAIr2bGGHYsDkij2g&code_challenge_method=S256\n",
            "\n",
            "The authorization workflow will generate a code, which you should paste in the box below. \n",
            "Enter verification code: 4/1AX4XfWjEZ5jJfsYw_nZW2gscJyMFG8rLmNH_ynbAOwT0J-wruF81hPg3xgk\n",
            "\n",
            "Successfully saved authorization token.\n"
          ]
        }
      ]
    },
    {
      "cell_type": "markdown",
      "source": [
        "# Declaração das Coordenadas da feição da Lagoa dos Patos - RS"
      ],
      "metadata": {
        "id": "-vqlRIEwoM9m"
      }
    },
    {
      "cell_type": "code",
      "source": [
        "# Definindo uma feição simples do entorno da Lagoa dos Patos - RS\n",
        "feicao_lagoa = ee.Geometry.Polygon([[-50.9847, -30.3578], [-50.9560, -30.3147], \n",
        "                             [-50.6642, -30.1425], [-50.5015, -30.1329], \n",
        "                             [-50.5207, -30.4582], [-50.6259, -30.5204], \n",
        "                             [-50.6977, -30.8218], [-50.9225, -30.9223], \n",
        "                             [-50.9321, -31.0371], [-51.1521, -31.1232], \n",
        "                             [-51.1378, -31.3863], [-51.6209, -31.8264], \n",
        "                             [-51.9797, -31.9029], [-52.0180, -32.2330], \n",
        "                             [-52.1615, -32.2091], [-52.3146, -31.9938], \n",
        "                             [-52.1567, -31.4485], [-51.5683, -31.0562], \n",
        "                             [-51.3052, -30.4199], [-51.3722, -29.9894], \n",
        "                             [-51.2526, -29.9655], [-51.1952, -30.1568], \n",
        "                             [-51.0134, -30.2525], [-50.9847, -30.3578]])\n",
        "\n",
        "# Declarando as coordenadas da Lagoa dos Patos como uma Features para recorte\n",
        "lagoa_patos = ee.Feature(feicao_lagoa)\n"
      ],
      "metadata": {
        "id": "8iyS7YcGj7i-"
      },
      "execution_count": 13,
      "outputs": []
    },
    {
      "cell_type": "markdown",
      "source": [
        "# Definindo a Função ymdList para visualização de datas"
      ],
      "metadata": {
        "id": "9R3ey49xrVEe"
      }
    },
    {
      "cell_type": "code",
      "source": [
        "# Função para visualizar as datas das imagens\n",
        "def ymdList(imgcol):\n",
        "    def iter_func(image, newlist):\n",
        "        date = ee.Number.parse(image.date().format(\"YYYYMMdd\"));\n",
        "        newlist = ee.List(newlist);\n",
        "        return ee.List(newlist.add(date).sort())\n",
        "    ymd = imgcol.iterate(iter_func, ee.List([]))\n",
        "    return list(ee.List(ymd).reduce(ee.Reducer.frequencyHistogram()).getInfo().keys())\n"
      ],
      "metadata": {
        "id": "G-NeTgQErdyV"
      },
      "execution_count": 5,
      "outputs": []
    },
    {
      "cell_type": "markdown",
      "source": [
        "# Definição da Função Folium para gerar Mapas da Lagoa dos Patos"
      ],
      "metadata": {
        "id": "P0IzFTICpw5w"
      }
    },
    {
      "cell_type": "code",
      "metadata": {
        "id": "uB6qOdKajYoE"
      },
      "source": [
        "# Função para gerar mapa de visualização Folium.\n",
        "import folium\n",
        "\n",
        "def add_ee_layer(self, ee_image_object, vis_params, name):\n",
        "  map_id_dict = ee.Image(ee_image_object).getMapId(vis_params)\n",
        "  folium.raster_layers.TileLayer(\n",
        "      tiles=map_id_dict['tile_fetcher'].url_format,\n",
        "      attr='Map Data &copy; <a href=\"https://earthengine.google.com/\">Google Earth Engine</a>',\n",
        "      name=name,\n",
        "      overlay=True,\n",
        "      control=True\n",
        "  ).add_to(self)\n",
        "\n",
        "folium.Map.add_ee_layer = add_ee_layer\n",
        "\n",
        "# Definindo parametros da composição do mapa RGB True Color\n",
        "rgb_param = {\n",
        "    'bands': ['B3', 'B2', 'B1'],\n",
        "    'min': 0,\n",
        "    'max': 0.5,\n",
        "    'gamma': [0.95, 1.1, 1]\n",
        "}\n",
        "\n",
        "# Defindo o centro do mapa para a Lagos dos Patos por Folium \n",
        "my_map = folium.Map(location=[-31.15666425, -51.35544453], zoom_start=8)\n"
      ],
      "execution_count": 15,
      "outputs": []
    },
    {
      "cell_type": "markdown",
      "metadata": {
        "id": "euxMUVahMLNk"
      },
      "source": [
        "# 1°Seção A: Filtração e Visualização para TOA Images Landsat 5\n",
        "\n"
      ]
    },
    {
      "cell_type": "markdown",
      "metadata": {
        "id": "cxB1n77dM1QA"
      },
      "source": [
        "Vizualização por USGS Landsat 8 Collection 1 Tier 1 TOA Reflectance"
      ]
    },
    {
      "cell_type": "code",
      "metadata": {
        "id": "ljMO5f7ruVdj",
        "colab": {
          "base_uri": "https://localhost:8080/"
        },
        "outputId": "88a33150-d413-44ee-fd73-3960111202cf"
      },
      "source": [
        "# Variável para acessar coleções do Landsat 5 (LT05_\"ROW\")\n",
        "# Filtros Escolhidos para aplicação:\n",
        "#   Data: 2000-06-23 a 2011-10-28\n",
        "#   Path: 221/ Row: 081 e 082\n",
        "#   Cobertura de nuvens menor de 20%\n",
        "\n",
        "LT05_81 = ee.ImageCollection(\"LANDSAT/LT05/C01/T1_TOA\")\\\n",
        "    .filterDate('2000-06-23','2011-10-28')\\\n",
        "    .filter(ee.Filter.eq('WRS_PATH', 221))\\\n",
        "    .filter(ee.Filter.eq('WRS_ROW', 81))\\\n",
        "    .filterMetadata('CLOUD_COVER', 'less_than', 20)\n",
        "\n",
        "LT05_82 = ee.ImageCollection(\"LANDSAT/LT05/C01/T1_TOA\")\\\n",
        "    .filterDate('2000-06-23','2011-10-28')\\\n",
        "    .filter(ee.Filter.eq('WRS_PATH', 221))\\\n",
        "    .filter(ee.Filter.eq('WRS_ROW', 82))\\\n",
        "    .filterMetadata('CLOUD_COVER', 'less_than', 20)\n",
        "\n",
        "print('Total de imagens Row81: ', LT05_81.size().getInfo())\n",
        "print('Total de imagens Row82: ', LT05_82.size().getInfo())\n"
      ],
      "execution_count": 10,
      "outputs": [
        {
          "output_type": "stream",
          "name": "stdout",
          "text": [
            "Total de imagens Row81:  52\n",
            "Total de imagens Row82:  59\n"
          ]
        }
      ]
    },
    {
      "cell_type": "code",
      "metadata": {
        "id": "6CKvRfz-YiXA",
        "colab": {
          "base_uri": "https://localhost:8080/"
        },
        "outputId": "ffdc9f89-2e94-47a3-dae3-362632b528a6"
      },
      "source": [
        "# Usando a função ymdList para visualização de Datas\n",
        "print('Datas disponíveis ROW 081: ', ymdList(LT05_81))\n",
        "print('Datas disponíveis ROW 082: ', ymdList(LT05_82))\n"
      ],
      "execution_count": 11,
      "outputs": [
        {
          "output_type": "stream",
          "name": "stdout",
          "text": [
            "Datas disponíveis ROW 081:  ['20000623', '20000927', '20010101', '20010525', '20010712', '20010728', '20011219', '20020120', '20020221', '20020309', '20030904', '20031123', '20040211', '20040330', '20040517', '20040704', '20040720', '20040906', '20041008', '20050112', '20050418', '20050504', '20051112', '20060523', '20060608', '20060624', '20061014', '20061115', '20061201', '20070102', '20070203', '20070323', '20070526', '20071001', '20080206', '20080309', '20080325', '20081003', '20081206', '20081222', '20090107', '20090123', '20090328', '20090413', '20090429', '20090702', '20090920', '20100211', '20100822', '20101110', '20110505', '20110910']\n",
            "Datas disponíveis ROW 082:  ['20000623', '20000927', '20010101', '20010202', '20010407', '20010525', '20010712', '20011117', '20011219', '20020120', '20020309', '20030819', '20030920', '20031123', '20040126', '20040211', '20040501', '20040720', '20040906', '20041024', '20041227', '20050112', '20050128', '20050418', '20050504', '20050621', '20050707', '20050925', '20060131', '20060523', '20060608', '20061115', '20061201', '20070102', '20070203', '20070323', '20070526', '20070729', '20080121', '20080206', '20080325', '20080917', '20081003', '20081206', '20090107', '20090123', '20090208', '20090328', '20090413', '20090429', '20090920', '20100331', '20100502', '20100822', '20110129', '20110214', '20110403', '20110419', '20110505']\n"
          ]
        }
      ]
    },
    {
      "cell_type": "code",
      "source": [
        "# Selecionando imagens por datas da coleção criada a cima\n",
        "LT05_81 = ee.Image(\"LANDSAT/LT05/C01/T1_TOA/LT05_221081_20010525\")\n",
        "LT05_82 = ee.Image(\"LANDSAT/LT05/C01/T1_TOA/LT05_221082_20010525\")\n",
        "\n",
        "# Gerando a variável mosaico\n",
        "LT05_mosaic = ee.ImageCollection([LT05_81, LT05_82]).mosaic()\n",
        "\n",
        "# Função Clip que contem o recorte do mosaico sobre a área da Lagoa dos Patos -RS\n",
        "LT05_LagoaPatos = LT05_mosaic.clip(lagoa_patos)\n",
        "\n",
        "# # Adicionando as imagens ao MapLayer por Folium.\n",
        "my_map.add_ee_layer(LT05_LagoaPatos, rgb_param, 'true color')\n",
        "display(my_map)\n"
      ],
      "metadata": {
        "id": "XImDeURHl51T",
        "colab": {
          "base_uri": "https://localhost:8080/",
          "height": 854
        },
        "outputId": "4ea4cd82-7765-413d-cb53-583a4ad3fa0d"
      },
      "execution_count": 24,
      "outputs": [
        {
          "output_type": "display_data",
          "data": {
            "text/html": [
              "<div style=\"width:100%;\"><div style=\"position:relative;width:100%;height:0;padding-bottom:60%;\"><span style=\"color:#565656\">Make this Notebook Trusted to load map: File -> Trust Notebook</span><iframe src=\"about:blank\" style=\"position:absolute;width:100%;height:100%;left:0;top:0;border:none !important;\" data-html=%3C%21DOCTYPE%20html%3E%0A%3Chead%3E%20%20%20%20%0A%20%20%20%20%3Cmeta%20http-equiv%3D%22content-type%22%20content%3D%22text/html%3B%20charset%3DUTF-8%22%20/%3E%0A%20%20%20%20%3Cscript%3EL_PREFER_CANVAS%3Dfalse%3B%20L_NO_TOUCH%3Dfalse%3B%20L_DISABLE_3D%3Dfalse%3B%3C/script%3E%0A%20%20%20%20%3Cscript%20src%3D%22https%3A//cdn.jsdelivr.net/npm/leaflet%401.4.0/dist/leaflet.js%22%3E%3C/script%3E%0A%20%20%20%20%3Cscript%20src%3D%22https%3A//code.jquery.com/jquery-1.12.4.min.js%22%3E%3C/script%3E%0A%20%20%20%20%3Cscript%20src%3D%22https%3A//maxcdn.bootstrapcdn.com/bootstrap/3.2.0/js/bootstrap.min.js%22%3E%3C/script%3E%0A%20%20%20%20%3Cscript%20src%3D%22https%3A//cdnjs.cloudflare.com/ajax/libs/Leaflet.awesome-markers/2.0.2/leaflet.awesome-markers.js%22%3E%3C/script%3E%0A%20%20%20%20%3Clink%20rel%3D%22stylesheet%22%20href%3D%22https%3A//cdn.jsdelivr.net/npm/leaflet%401.4.0/dist/leaflet.css%22/%3E%0A%20%20%20%20%3Clink%20rel%3D%22stylesheet%22%20href%3D%22https%3A//maxcdn.bootstrapcdn.com/bootstrap/3.2.0/css/bootstrap.min.css%22/%3E%0A%20%20%20%20%3Clink%20rel%3D%22stylesheet%22%20href%3D%22https%3A//maxcdn.bootstrapcdn.com/bootstrap/3.2.0/css/bootstrap-theme.min.css%22/%3E%0A%20%20%20%20%3Clink%20rel%3D%22stylesheet%22%20href%3D%22https%3A//maxcdn.bootstrapcdn.com/font-awesome/4.6.3/css/font-awesome.min.css%22/%3E%0A%20%20%20%20%3Clink%20rel%3D%22stylesheet%22%20href%3D%22https%3A//cdnjs.cloudflare.com/ajax/libs/Leaflet.awesome-markers/2.0.2/leaflet.awesome-markers.css%22/%3E%0A%20%20%20%20%3Clink%20rel%3D%22stylesheet%22%20href%3D%22https%3A//rawcdn.githack.com/python-visualization/folium/master/folium/templates/leaflet.awesome.rotate.css%22/%3E%0A%20%20%20%20%3Cstyle%3Ehtml%2C%20body%20%7Bwidth%3A%20100%25%3Bheight%3A%20100%25%3Bmargin%3A%200%3Bpadding%3A%200%3B%7D%3C/style%3E%0A%20%20%20%20%3Cstyle%3E%23map%20%7Bposition%3Aabsolute%3Btop%3A0%3Bbottom%3A0%3Bright%3A0%3Bleft%3A0%3B%7D%3C/style%3E%0A%20%20%20%20%0A%20%20%20%20%3Cmeta%20name%3D%22viewport%22%20content%3D%22width%3Ddevice-width%2C%0A%20%20%20%20%20%20%20%20initial-scale%3D1.0%2C%20maximum-scale%3D1.0%2C%20user-scalable%3Dno%22%20/%3E%0A%20%20%20%20%3Cstyle%3E%23map_b611ef76bf084609b507b37062319dc7%20%7B%0A%20%20%20%20%20%20%20%20position%3A%20relative%3B%0A%20%20%20%20%20%20%20%20width%3A%20100.0%25%3B%0A%20%20%20%20%20%20%20%20height%3A%20100.0%25%3B%0A%20%20%20%20%20%20%20%20left%3A%200.0%25%3B%0A%20%20%20%20%20%20%20%20top%3A%200.0%25%3B%0A%20%20%20%20%20%20%20%20%7D%0A%20%20%20%20%3C/style%3E%0A%3C/head%3E%0A%3Cbody%3E%20%20%20%20%0A%20%20%20%20%0A%20%20%20%20%3Cdiv%20class%3D%22folium-map%22%20id%3D%22map_b611ef76bf084609b507b37062319dc7%22%20%3E%3C/div%3E%0A%3C/body%3E%0A%3Cscript%3E%20%20%20%20%0A%20%20%20%20%0A%20%20%20%20%0A%20%20%20%20%20%20%20%20var%20bounds%20%3D%20null%3B%0A%20%20%20%20%0A%0A%20%20%20%20var%20map_b611ef76bf084609b507b37062319dc7%20%3D%20L.map%28%0A%20%20%20%20%20%20%20%20%27map_b611ef76bf084609b507b37062319dc7%27%2C%20%7B%0A%20%20%20%20%20%20%20%20center%3A%20%5B-31.15666425%2C%20-51.35544453%5D%2C%0A%20%20%20%20%20%20%20%20zoom%3A%208%2C%0A%20%20%20%20%20%20%20%20maxBounds%3A%20bounds%2C%0A%20%20%20%20%20%20%20%20layers%3A%20%5B%5D%2C%0A%20%20%20%20%20%20%20%20worldCopyJump%3A%20false%2C%0A%20%20%20%20%20%20%20%20crs%3A%20L.CRS.EPSG3857%2C%0A%20%20%20%20%20%20%20%20zoomControl%3A%20true%2C%0A%20%20%20%20%20%20%20%20%7D%29%3B%0A%0A%0A%20%20%20%20%0A%20%20%20%20var%20tile_layer_c98d1f0f80604353a647a7465d06a96f%20%3D%20L.tileLayer%28%0A%20%20%20%20%20%20%20%20%27https%3A//%7Bs%7D.tile.openstreetmap.org/%7Bz%7D/%7Bx%7D/%7By%7D.png%27%2C%0A%20%20%20%20%20%20%20%20%7B%0A%20%20%20%20%20%20%20%20%22attribution%22%3A%20null%2C%0A%20%20%20%20%20%20%20%20%22detectRetina%22%3A%20false%2C%0A%20%20%20%20%20%20%20%20%22maxNativeZoom%22%3A%2018%2C%0A%20%20%20%20%20%20%20%20%22maxZoom%22%3A%2018%2C%0A%20%20%20%20%20%20%20%20%22minZoom%22%3A%200%2C%0A%20%20%20%20%20%20%20%20%22noWrap%22%3A%20false%2C%0A%20%20%20%20%20%20%20%20%22opacity%22%3A%201%2C%0A%20%20%20%20%20%20%20%20%22subdomains%22%3A%20%22abc%22%2C%0A%20%20%20%20%20%20%20%20%22tms%22%3A%20false%0A%7D%29.addTo%28map_b611ef76bf084609b507b37062319dc7%29%3B%0A%20%20%20%20var%20tile_layer_37a8595fbd5540388dab8b6f33cba0b3%20%3D%20L.tileLayer%28%0A%20%20%20%20%20%20%20%20%27https%3A//earthengine.googleapis.com/v1alpha/projects/earthengine-legacy/maps/4b33b4396930b98d863e7f962a768100-09fb1f8474948871200500203607505f/tiles/%7Bz%7D/%7Bx%7D/%7By%7D%27%2C%0A%20%20%20%20%20%20%20%20%7B%0A%20%20%20%20%20%20%20%20%22attribution%22%3A%20%22Map%20Data%20%26copy%3B%20%3Ca%20href%3D%5C%22https%3A//earthengine.google.com/%5C%22%3EGoogle%20Earth%20Engine%3C/a%3E%22%2C%0A%20%20%20%20%20%20%20%20%22detectRetina%22%3A%20false%2C%0A%20%20%20%20%20%20%20%20%22maxNativeZoom%22%3A%2018%2C%0A%20%20%20%20%20%20%20%20%22maxZoom%22%3A%2018%2C%0A%20%20%20%20%20%20%20%20%22minZoom%22%3A%200%2C%0A%20%20%20%20%20%20%20%20%22noWrap%22%3A%20false%2C%0A%20%20%20%20%20%20%20%20%22opacity%22%3A%201%2C%0A%20%20%20%20%20%20%20%20%22subdomains%22%3A%20%22abc%22%2C%0A%20%20%20%20%20%20%20%20%22tms%22%3A%20false%0A%7D%29.addTo%28map_b611ef76bf084609b507b37062319dc7%29%3B%0A%20%20%20%20var%20tile_layer_5519e42c0ffd445592d8d246cc61a475%20%3D%20L.tileLayer%28%0A%20%20%20%20%20%20%20%20%27https%3A//earthengine.googleapis.com/v1alpha/projects/earthengine-legacy/maps/208be961ef23deb516ca9e9fd1e36c1b-1d26aa6c7c43bdfbc4f6474bfecf1fba/tiles/%7Bz%7D/%7Bx%7D/%7By%7D%27%2C%0A%20%20%20%20%20%20%20%20%7B%0A%20%20%20%20%20%20%20%20%22attribution%22%3A%20%22Map%20Data%20%26copy%3B%20%3Ca%20href%3D%5C%22https%3A//earthengine.google.com/%5C%22%3EGoogle%20Earth%20Engine%3C/a%3E%22%2C%0A%20%20%20%20%20%20%20%20%22detectRetina%22%3A%20false%2C%0A%20%20%20%20%20%20%20%20%22maxNativeZoom%22%3A%2018%2C%0A%20%20%20%20%20%20%20%20%22maxZoom%22%3A%2018%2C%0A%20%20%20%20%20%20%20%20%22minZoom%22%3A%200%2C%0A%20%20%20%20%20%20%20%20%22noWrap%22%3A%20false%2C%0A%20%20%20%20%20%20%20%20%22opacity%22%3A%201%2C%0A%20%20%20%20%20%20%20%20%22subdomains%22%3A%20%22abc%22%2C%0A%20%20%20%20%20%20%20%20%22tms%22%3A%20false%0A%7D%29.addTo%28map_b611ef76bf084609b507b37062319dc7%29%3B%0A%20%20%20%20var%20tile_layer_b51591729de74b479da4a78193d3fd71%20%3D%20L.tileLayer%28%0A%20%20%20%20%20%20%20%20%27https%3A//earthengine.googleapis.com/v1alpha/projects/earthengine-legacy/maps/208be961ef23deb516ca9e9fd1e36c1b-bcd5f5269d722c65b154214bac563aff/tiles/%7Bz%7D/%7Bx%7D/%7By%7D%27%2C%0A%20%20%20%20%20%20%20%20%7B%0A%20%20%20%20%20%20%20%20%22attribution%22%3A%20%22Map%20Data%20%26copy%3B%20%3Ca%20href%3D%5C%22https%3A//earthengine.google.com/%5C%22%3EGoogle%20Earth%20Engine%3C/a%3E%22%2C%0A%20%20%20%20%20%20%20%20%22detectRetina%22%3A%20false%2C%0A%20%20%20%20%20%20%20%20%22maxNativeZoom%22%3A%2018%2C%0A%20%20%20%20%20%20%20%20%22maxZoom%22%3A%2018%2C%0A%20%20%20%20%20%20%20%20%22minZoom%22%3A%200%2C%0A%20%20%20%20%20%20%20%20%22noWrap%22%3A%20false%2C%0A%20%20%20%20%20%20%20%20%22opacity%22%3A%201%2C%0A%20%20%20%20%20%20%20%20%22subdomains%22%3A%20%22abc%22%2C%0A%20%20%20%20%20%20%20%20%22tms%22%3A%20false%0A%7D%29.addTo%28map_b611ef76bf084609b507b37062319dc7%29%3B%0A%20%20%20%20var%20tile_layer_ed2e7e197e73400fb8b0d9f98ed87b78%20%3D%20L.tileLayer%28%0A%20%20%20%20%20%20%20%20%27https%3A//earthengine.googleapis.com/v1alpha/projects/earthengine-legacy/maps/4b33b4396930b98d863e7f962a768100-c5c53d5595b27b7b653f1e979a958ab2/tiles/%7Bz%7D/%7Bx%7D/%7By%7D%27%2C%0A%20%20%20%20%20%20%20%20%7B%0A%20%20%20%20%20%20%20%20%22attribution%22%3A%20%22Map%20Data%20%26copy%3B%20%3Ca%20href%3D%5C%22https%3A//earthengine.google.com/%5C%22%3EGoogle%20Earth%20Engine%3C/a%3E%22%2C%0A%20%20%20%20%20%20%20%20%22detectRetina%22%3A%20false%2C%0A%20%20%20%20%20%20%20%20%22maxNativeZoom%22%3A%2018%2C%0A%20%20%20%20%20%20%20%20%22maxZoom%22%3A%2018%2C%0A%20%20%20%20%20%20%20%20%22minZoom%22%3A%200%2C%0A%20%20%20%20%20%20%20%20%22noWrap%22%3A%20false%2C%0A%20%20%20%20%20%20%20%20%22opacity%22%3A%201%2C%0A%20%20%20%20%20%20%20%20%22subdomains%22%3A%20%22abc%22%2C%0A%20%20%20%20%20%20%20%20%22tms%22%3A%20false%0A%7D%29.addTo%28map_b611ef76bf084609b507b37062319dc7%29%3B%0A%20%20%20%20var%20tile_layer_345560ccf5cc4662aff45f97a39dc9b3%20%3D%20L.tileLayer%28%0A%20%20%20%20%20%20%20%20%27https%3A//earthengine.googleapis.com/v1alpha/projects/earthengine-legacy/maps/4b33b4396930b98d863e7f962a768100-3ae1bc7c82ed742e19580436fef44a7e/tiles/%7Bz%7D/%7Bx%7D/%7By%7D%27%2C%0A%20%20%20%20%20%20%20%20%7B%0A%20%20%20%20%20%20%20%20%22attribution%22%3A%20%22Map%20Data%20%26copy%3B%20%3Ca%20href%3D%5C%22https%3A//earthengine.google.com/%5C%22%3EGoogle%20Earth%20Engine%3C/a%3E%22%2C%0A%20%20%20%20%20%20%20%20%22detectRetina%22%3A%20false%2C%0A%20%20%20%20%20%20%20%20%22maxNativeZoom%22%3A%2018%2C%0A%20%20%20%20%20%20%20%20%22maxZoom%22%3A%2018%2C%0A%20%20%20%20%20%20%20%20%22minZoom%22%3A%200%2C%0A%20%20%20%20%20%20%20%20%22noWrap%22%3A%20false%2C%0A%20%20%20%20%20%20%20%20%22opacity%22%3A%201%2C%0A%20%20%20%20%20%20%20%20%22subdomains%22%3A%20%22abc%22%2C%0A%20%20%20%20%20%20%20%20%22tms%22%3A%20false%0A%7D%29.addTo%28map_b611ef76bf084609b507b37062319dc7%29%3B%0A%3C/script%3E onload=\"this.contentDocument.open();this.contentDocument.write(    decodeURIComponent(this.getAttribute('data-html')));this.contentDocument.close();\" allowfullscreen webkitallowfullscreen mozallowfullscreen></iframe></div></div>"
            ],
            "text/plain": [
              "<folium.folium.Map at 0x7fa3885da810>"
            ]
          },
          "metadata": {}
        }
      ]
    },
    {
      "cell_type": "markdown",
      "source": [
        "# 1°Seção B: Filtração e Visualização para TOA Images Landsat 8; "
      ],
      "metadata": {
        "id": "j7QIDap1B8nw"
      }
    },
    {
      "cell_type": "code",
      "source": [
        "# Variável para acessar coleções do Landsat 8 (LC08_\"ROW\")\n",
        "# Filtros Escolhidos para aplicação:\n",
        "#   Data: 2013-08-30 a 2020-12-23\n",
        "#   Path: 221/ Row: 081 e 082\n",
        "#   Cobertura de nuvens menor de 20%\n",
        "\n",
        "LC08_81 = ee.ImageCollection(\"LANDSAT/LC08/C01/T1_TOA\")\\\n",
        "    .filterDate('2013-08-30','2020-12-23')\\\n",
        "    .filter(ee.Filter.eq('WRS_PATH', 221))\\\n",
        "    .filter(ee.Filter.eq('WRS_ROW', 81))\\\n",
        "    .filterMetadata('CLOUD_COVER', 'less_than', 20)\n",
        "\n",
        "LC08_82 = ee.ImageCollection(\"LANDSAT/LC08/C01/T1_TOA\")\\\n",
        "    .filterDate('2013-08-30','2020-12-23')\\\n",
        "    .filter(ee.Filter.eq('WRS_PATH', 221))\\\n",
        "    .filter(ee.Filter.eq('WRS_ROW', 82))\\\n",
        "    .filterMetadata('CLOUD_COVER', 'less_than', 20)\n",
        "\n",
        "print('Total de imagens Row81: ', LC08_81.size().getInfo())\n",
        "print('Total de imagens Row82: ', LC08_82.size().getInfo())\n"
      ],
      "metadata": {
        "id": "rRXQa1tIB418",
        "colab": {
          "base_uri": "https://localhost:8080/"
        },
        "outputId": "a95b41bd-0ba1-4933-c27e-a7dece1ab75f"
      },
      "execution_count": 17,
      "outputs": [
        {
          "output_type": "stream",
          "name": "stdout",
          "text": [
            "Total de imagens Row81:  55\n",
            "Total de imagens Row82:  49\n"
          ]
        }
      ]
    },
    {
      "cell_type": "code",
      "source": [
        "# Usando a função ymdList para visualização de Datas\n",
        "print('Datas disponíveis ROW 081: ', ymdList(LC08_81))\n",
        "print('Datas disponíveis ROW 082: ', ymdList(LC08_82))\n"
      ],
      "metadata": {
        "id": "ofZfYaLmCvPC",
        "colab": {
          "base_uri": "https://localhost:8080/"
        },
        "outputId": "338d9e78-682a-493e-c41e-0d9fa0717958"
      },
      "execution_count": 18,
      "outputs": [
        {
          "output_type": "stream",
          "name": "stdout",
          "text": [
            "Datas disponíveis ROW 081:  ['20130830', '20131118', '20131204', '20140105', '20140121', '20140206', '20140427', '20141020', '20141207', '20141223', '20150124', '20150225', '20151108', '20160127', '20160212', '20160315', '20160416', '20160518', '20160822', '20161009', '20161212', '20170113', '20170302', '20170403', '20170622', '20170708', '20170724', '20170825', '20171113', '20171215', '20171231', '20180217', '20180422', '20180508', '20180524', '20180609', '20180828', '20180929', '20181015', '20181116', '20190220', '20190324', '20190409', '20190815', '20191002', '20191119', '20200106', '20200207', '20200326', '20200529', '20200614', '20200801', '20200817', '20200918', '20201121']\n",
            "Datas disponíveis ROW 082:  ['20130830', '20131001', '20131118', '20131204', '20140105', '20140121', '20140222', '20140427', '20141020', '20141105', '20141207', '20150124', '20150209', '20150601', '20151210', '20160212', '20160228', '20160315', '20160619', '20160822', '20161009', '20161212', '20170113', '20170302', '20170318', '20170521', '20170622', '20170708', '20170825', '20171113', '20171215', '20171231', '20180217', '20180305', '20180524', '20180609', '20180828', '20180929', '20181015', '20190220', '20190324', '20190409', '20190815', '20191119', '20200529', '20200614', '20200801', '20200817', '20200918']\n"
          ]
        }
      ]
    },
    {
      "cell_type": "code",
      "source": [
        "# Selecionando imagens por datas da coleção criada a cima\n",
        "LC08_81 = ee.Image(\"LANDSAT/LC08/C01/T1_TOA/LC08_221081_20130830\")\n",
        "LC08_82 = ee.Image(\"LANDSAT/LC08/C01/T1_TOA/LC08_221082_20130830\")\n",
        "\n",
        "# Gerando a variável mosaico\n",
        "LC08_mosaic = ee.ImageCollection([LC08_81, LC08_82]).mosaic()\n",
        "\n",
        "# Função Clip para recortar o mosaico pela áreas de interesse\n",
        "LC08_LagoaPatos = LC08_mosaic.clip(lagoa_patos)\n",
        "\n",
        "# Adicionando as imagens ao MapLayer por Folium\n",
        "my_map.add_ee_layer(LC08_LagoaPatos, rgb_param, 'true color')\n",
        "display(my_map)\n"
      ],
      "metadata": {
        "id": "FfPiQjXxC5nK",
        "colab": {
          "base_uri": "https://localhost:8080/",
          "height": 854
        },
        "outputId": "16d5599c-93ce-414f-8da6-5d98f2da15b3"
      },
      "execution_count": 22,
      "outputs": [
        {
          "output_type": "display_data",
          "data": {
            "text/html": [
              "<div style=\"width:100%;\"><div style=\"position:relative;width:100%;height:0;padding-bottom:60%;\"><span style=\"color:#565656\">Make this Notebook Trusted to load map: File -> Trust Notebook</span><iframe src=\"about:blank\" style=\"position:absolute;width:100%;height:100%;left:0;top:0;border:none !important;\" data-html=%3C%21DOCTYPE%20html%3E%0A%3Chead%3E%20%20%20%20%0A%20%20%20%20%3Cmeta%20http-equiv%3D%22content-type%22%20content%3D%22text/html%3B%20charset%3DUTF-8%22%20/%3E%0A%20%20%20%20%3Cscript%3EL_PREFER_CANVAS%3Dfalse%3B%20L_NO_TOUCH%3Dfalse%3B%20L_DISABLE_3D%3Dfalse%3B%3C/script%3E%0A%20%20%20%20%3Cscript%20src%3D%22https%3A//cdn.jsdelivr.net/npm/leaflet%401.4.0/dist/leaflet.js%22%3E%3C/script%3E%0A%20%20%20%20%3Cscript%20src%3D%22https%3A//code.jquery.com/jquery-1.12.4.min.js%22%3E%3C/script%3E%0A%20%20%20%20%3Cscript%20src%3D%22https%3A//maxcdn.bootstrapcdn.com/bootstrap/3.2.0/js/bootstrap.min.js%22%3E%3C/script%3E%0A%20%20%20%20%3Cscript%20src%3D%22https%3A//cdnjs.cloudflare.com/ajax/libs/Leaflet.awesome-markers/2.0.2/leaflet.awesome-markers.js%22%3E%3C/script%3E%0A%20%20%20%20%3Clink%20rel%3D%22stylesheet%22%20href%3D%22https%3A//cdn.jsdelivr.net/npm/leaflet%401.4.0/dist/leaflet.css%22/%3E%0A%20%20%20%20%3Clink%20rel%3D%22stylesheet%22%20href%3D%22https%3A//maxcdn.bootstrapcdn.com/bootstrap/3.2.0/css/bootstrap.min.css%22/%3E%0A%20%20%20%20%3Clink%20rel%3D%22stylesheet%22%20href%3D%22https%3A//maxcdn.bootstrapcdn.com/bootstrap/3.2.0/css/bootstrap-theme.min.css%22/%3E%0A%20%20%20%20%3Clink%20rel%3D%22stylesheet%22%20href%3D%22https%3A//maxcdn.bootstrapcdn.com/font-awesome/4.6.3/css/font-awesome.min.css%22/%3E%0A%20%20%20%20%3Clink%20rel%3D%22stylesheet%22%20href%3D%22https%3A//cdnjs.cloudflare.com/ajax/libs/Leaflet.awesome-markers/2.0.2/leaflet.awesome-markers.css%22/%3E%0A%20%20%20%20%3Clink%20rel%3D%22stylesheet%22%20href%3D%22https%3A//rawcdn.githack.com/python-visualization/folium/master/folium/templates/leaflet.awesome.rotate.css%22/%3E%0A%20%20%20%20%3Cstyle%3Ehtml%2C%20body%20%7Bwidth%3A%20100%25%3Bheight%3A%20100%25%3Bmargin%3A%200%3Bpadding%3A%200%3B%7D%3C/style%3E%0A%20%20%20%20%3Cstyle%3E%23map%20%7Bposition%3Aabsolute%3Btop%3A0%3Bbottom%3A0%3Bright%3A0%3Bleft%3A0%3B%7D%3C/style%3E%0A%20%20%20%20%0A%20%20%20%20%3Cmeta%20name%3D%22viewport%22%20content%3D%22width%3Ddevice-width%2C%0A%20%20%20%20%20%20%20%20initial-scale%3D1.0%2C%20maximum-scale%3D1.0%2C%20user-scalable%3Dno%22%20/%3E%0A%20%20%20%20%3Cstyle%3E%23map_b611ef76bf084609b507b37062319dc7%20%7B%0A%20%20%20%20%20%20%20%20position%3A%20relative%3B%0A%20%20%20%20%20%20%20%20width%3A%20100.0%25%3B%0A%20%20%20%20%20%20%20%20height%3A%20100.0%25%3B%0A%20%20%20%20%20%20%20%20left%3A%200.0%25%3B%0A%20%20%20%20%20%20%20%20top%3A%200.0%25%3B%0A%20%20%20%20%20%20%20%20%7D%0A%20%20%20%20%3C/style%3E%0A%3C/head%3E%0A%3Cbody%3E%20%20%20%20%0A%20%20%20%20%0A%20%20%20%20%3Cdiv%20class%3D%22folium-map%22%20id%3D%22map_b611ef76bf084609b507b37062319dc7%22%20%3E%3C/div%3E%0A%3C/body%3E%0A%3Cscript%3E%20%20%20%20%0A%20%20%20%20%0A%20%20%20%20%0A%20%20%20%20%20%20%20%20var%20bounds%20%3D%20null%3B%0A%20%20%20%20%0A%0A%20%20%20%20var%20map_b611ef76bf084609b507b37062319dc7%20%3D%20L.map%28%0A%20%20%20%20%20%20%20%20%27map_b611ef76bf084609b507b37062319dc7%27%2C%20%7B%0A%20%20%20%20%20%20%20%20center%3A%20%5B-31.15666425%2C%20-51.35544453%5D%2C%0A%20%20%20%20%20%20%20%20zoom%3A%208%2C%0A%20%20%20%20%20%20%20%20maxBounds%3A%20bounds%2C%0A%20%20%20%20%20%20%20%20layers%3A%20%5B%5D%2C%0A%20%20%20%20%20%20%20%20worldCopyJump%3A%20false%2C%0A%20%20%20%20%20%20%20%20crs%3A%20L.CRS.EPSG3857%2C%0A%20%20%20%20%20%20%20%20zoomControl%3A%20true%2C%0A%20%20%20%20%20%20%20%20%7D%29%3B%0A%0A%0A%20%20%20%20%0A%20%20%20%20var%20tile_layer_c98d1f0f80604353a647a7465d06a96f%20%3D%20L.tileLayer%28%0A%20%20%20%20%20%20%20%20%27https%3A//%7Bs%7D.tile.openstreetmap.org/%7Bz%7D/%7Bx%7D/%7By%7D.png%27%2C%0A%20%20%20%20%20%20%20%20%7B%0A%20%20%20%20%20%20%20%20%22attribution%22%3A%20null%2C%0A%20%20%20%20%20%20%20%20%22detectRetina%22%3A%20false%2C%0A%20%20%20%20%20%20%20%20%22maxNativeZoom%22%3A%2018%2C%0A%20%20%20%20%20%20%20%20%22maxZoom%22%3A%2018%2C%0A%20%20%20%20%20%20%20%20%22minZoom%22%3A%200%2C%0A%20%20%20%20%20%20%20%20%22noWrap%22%3A%20false%2C%0A%20%20%20%20%20%20%20%20%22opacity%22%3A%201%2C%0A%20%20%20%20%20%20%20%20%22subdomains%22%3A%20%22abc%22%2C%0A%20%20%20%20%20%20%20%20%22tms%22%3A%20false%0A%7D%29.addTo%28map_b611ef76bf084609b507b37062319dc7%29%3B%0A%20%20%20%20var%20tile_layer_37a8595fbd5540388dab8b6f33cba0b3%20%3D%20L.tileLayer%28%0A%20%20%20%20%20%20%20%20%27https%3A//earthengine.googleapis.com/v1alpha/projects/earthengine-legacy/maps/4b33b4396930b98d863e7f962a768100-09fb1f8474948871200500203607505f/tiles/%7Bz%7D/%7Bx%7D/%7By%7D%27%2C%0A%20%20%20%20%20%20%20%20%7B%0A%20%20%20%20%20%20%20%20%22attribution%22%3A%20%22Map%20Data%20%26copy%3B%20%3Ca%20href%3D%5C%22https%3A//earthengine.google.com/%5C%22%3EGoogle%20Earth%20Engine%3C/a%3E%22%2C%0A%20%20%20%20%20%20%20%20%22detectRetina%22%3A%20false%2C%0A%20%20%20%20%20%20%20%20%22maxNativeZoom%22%3A%2018%2C%0A%20%20%20%20%20%20%20%20%22maxZoom%22%3A%2018%2C%0A%20%20%20%20%20%20%20%20%22minZoom%22%3A%200%2C%0A%20%20%20%20%20%20%20%20%22noWrap%22%3A%20false%2C%0A%20%20%20%20%20%20%20%20%22opacity%22%3A%201%2C%0A%20%20%20%20%20%20%20%20%22subdomains%22%3A%20%22abc%22%2C%0A%20%20%20%20%20%20%20%20%22tms%22%3A%20false%0A%7D%29.addTo%28map_b611ef76bf084609b507b37062319dc7%29%3B%0A%20%20%20%20var%20tile_layer_5519e42c0ffd445592d8d246cc61a475%20%3D%20L.tileLayer%28%0A%20%20%20%20%20%20%20%20%27https%3A//earthengine.googleapis.com/v1alpha/projects/earthengine-legacy/maps/208be961ef23deb516ca9e9fd1e36c1b-1d26aa6c7c43bdfbc4f6474bfecf1fba/tiles/%7Bz%7D/%7Bx%7D/%7By%7D%27%2C%0A%20%20%20%20%20%20%20%20%7B%0A%20%20%20%20%20%20%20%20%22attribution%22%3A%20%22Map%20Data%20%26copy%3B%20%3Ca%20href%3D%5C%22https%3A//earthengine.google.com/%5C%22%3EGoogle%20Earth%20Engine%3C/a%3E%22%2C%0A%20%20%20%20%20%20%20%20%22detectRetina%22%3A%20false%2C%0A%20%20%20%20%20%20%20%20%22maxNativeZoom%22%3A%2018%2C%0A%20%20%20%20%20%20%20%20%22maxZoom%22%3A%2018%2C%0A%20%20%20%20%20%20%20%20%22minZoom%22%3A%200%2C%0A%20%20%20%20%20%20%20%20%22noWrap%22%3A%20false%2C%0A%20%20%20%20%20%20%20%20%22opacity%22%3A%201%2C%0A%20%20%20%20%20%20%20%20%22subdomains%22%3A%20%22abc%22%2C%0A%20%20%20%20%20%20%20%20%22tms%22%3A%20false%0A%7D%29.addTo%28map_b611ef76bf084609b507b37062319dc7%29%3B%0A%20%20%20%20var%20tile_layer_b51591729de74b479da4a78193d3fd71%20%3D%20L.tileLayer%28%0A%20%20%20%20%20%20%20%20%27https%3A//earthengine.googleapis.com/v1alpha/projects/earthengine-legacy/maps/208be961ef23deb516ca9e9fd1e36c1b-bcd5f5269d722c65b154214bac563aff/tiles/%7Bz%7D/%7Bx%7D/%7By%7D%27%2C%0A%20%20%20%20%20%20%20%20%7B%0A%20%20%20%20%20%20%20%20%22attribution%22%3A%20%22Map%20Data%20%26copy%3B%20%3Ca%20href%3D%5C%22https%3A//earthengine.google.com/%5C%22%3EGoogle%20Earth%20Engine%3C/a%3E%22%2C%0A%20%20%20%20%20%20%20%20%22detectRetina%22%3A%20false%2C%0A%20%20%20%20%20%20%20%20%22maxNativeZoom%22%3A%2018%2C%0A%20%20%20%20%20%20%20%20%22maxZoom%22%3A%2018%2C%0A%20%20%20%20%20%20%20%20%22minZoom%22%3A%200%2C%0A%20%20%20%20%20%20%20%20%22noWrap%22%3A%20false%2C%0A%20%20%20%20%20%20%20%20%22opacity%22%3A%201%2C%0A%20%20%20%20%20%20%20%20%22subdomains%22%3A%20%22abc%22%2C%0A%20%20%20%20%20%20%20%20%22tms%22%3A%20false%0A%7D%29.addTo%28map_b611ef76bf084609b507b37062319dc7%29%3B%0A%3C/script%3E onload=\"this.contentDocument.open();this.contentDocument.write(    decodeURIComponent(this.getAttribute('data-html')));this.contentDocument.close();\" allowfullscreen webkitallowfullscreen mozallowfullscreen></iframe></div></div>"
            ],
            "text/plain": [
              "<folium.folium.Map at 0x7fa3885da810>"
            ]
          },
          "metadata": {}
        }
      ]
    },
    {
      "cell_type": "markdown",
      "source": [
        "# FIM DO CÓDIGO!"
      ],
      "metadata": {
        "id": "_GBZZzs_29An"
      }
    }
  ]
}
